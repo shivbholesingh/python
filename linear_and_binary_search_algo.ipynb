{
 "cells": [
  {
   "cell_type": "markdown",
   "metadata": {},
   "source": [
    "# linear search:\n"
   ]
  },
  {
   "cell_type": "code",
   "execution_count": null,
   "metadata": {
    "collapsed": true
   },
   "outputs": [],
   "source": [
    "def linear_search(array,target):\n",
    "    for i in range(len(array)):\n",
    "        if target==array[i]:\n",
    "            return i\n",
    "    return None\n",
    "array=list(map(int,input().split()))\n",
    "target=int(input())\n",
    "data=linear_search(array,target)\n",
    "if data is not None:\n",
    "    print('Value {} found at position {} using linear search'.format(target, data+1))\n",
    "\n",
    "else:\n",
    "    print(\"data is not found\")\n",
    "            \n",
    "                    \n",
    "    "
   ]
  },
  {
   "cell_type": "markdown",
   "metadata": {},
   "source": [
    "# binary search"
   ]
  },
  {
   "cell_type": "code",
   "execution_count": 1,
   "metadata": {},
   "outputs": [
    {
     "name": "stdout",
     "output_type": "stream",
     "text": [
      "34 43 1 2 3 4 56\n",
      "3\n",
      "Value 3 found at position 3 using linear search\n"
     ]
    }
   ],
   "source": [
    "def binary_search(array,target):\n",
    "    left=0\n",
    "    right=len(array)-1\n",
    "    \n",
    "    while(left<=right):\n",
    "        \n",
    "        mid=(right+left)//2\n",
    "        \n",
    "        if(target==array[mid]):\n",
    "            return mid\n",
    "        \n",
    "        elif(target>array[mid]):\n",
    "            left=mid+1\n",
    "            \n",
    "        else:\n",
    "            right= mid-1\n",
    "    return None\n",
    "\n",
    "array=list(map(int,input().split()))\n",
    "\n",
    "array=sorted(array)\n",
    "\n",
    "target=int(input())\n",
    "data=binary_search(array,target)\n",
    "if data is not None:\n",
    "    print('Value {} found at position {} using linear search'.format(target, data+1))\n",
    "else:\n",
    "    print(\"data is not found\")"
   ]
  },
  {
   "cell_type": "code",
   "execution_count": null,
   "metadata": {
    "collapsed": true
   },
   "outputs": [],
   "source": []
  }
 ],
 "metadata": {
  "kernelspec": {
   "display_name": "Python 3",
   "language": "python",
   "name": "python3"
  },
  "language_info": {
   "codemirror_mode": {
    "name": "ipython",
    "version": 3
   },
   "file_extension": ".py",
   "mimetype": "text/x-python",
   "name": "python",
   "nbconvert_exporter": "python",
   "pygments_lexer": "ipython3",
   "version": "3.6.1"
  }
 },
 "nbformat": 4,
 "nbformat_minor": 2
}
